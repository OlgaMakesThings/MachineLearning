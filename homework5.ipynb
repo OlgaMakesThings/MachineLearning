{
 "cells": [
  {
   "cell_type": "code",
   "execution_count": 4,
   "id": "0b5f23bb",
   "metadata": {},
   "outputs": [],
   "source": [
    "import numpy as np              # Массивы (матрицы, векторы, линейная алгебра)\n",
    "import matplotlib.pyplot as plt # Научная графика\n",
    "import pandas as pd             # Таблицы и временные ряды (dataframe, series)\n",
    "import seaborn as sns           # Еще больше красивой графики для визуализации данных\n",
    "import sklearn                  # Алгоритмы машинного обучения\n",
    "from sklearn.datasets import fetch_openml\n",
    "%matplotlib inline \n",
    "from sklearn import preprocessing\n",
    "from sklearn.model_selection import train_test_split\n",
    "from sklearn.neural_network import MLPClassifier\n",
    "from sklearn.metrics import accuracy_score\n",
    "from tqdm import tqdm"
   ]
  },
  {
   "cell_type": "markdown",
   "id": "b6e87b6c",
   "metadata": {},
   "source": [
    "# Загрузка и обработка данных"
   ]
  },
  {
   "cell_type": "markdown",
   "id": "f42e9c0d",
   "metadata": {},
   "source": [
    "Этот датасет представляет собой практику методов парсинга веб-сайта ИКЕА в Саудовской Аравии для категории мебели. Ссылка на извлеченный веб-сайт: https://www.ikea.com/sa/en/cat/furniture-fu001/\n",
    "Данные запрошены до 20.04.2020.\n",
    "\n",
    "Задача: предсказать, превысит ли товар стоимость в SR 1000, основываясь на имеющихся данных."
   ]
  },
  {
   "cell_type": "code",
   "execution_count": 5,
   "id": "67e03120",
   "metadata": {},
   "outputs": [
    {
     "data": {
      "text/plain": [
       "(3694, 14)"
      ]
     },
     "execution_count": 5,
     "metadata": {},
     "output_type": "execute_result"
    }
   ],
   "source": [
    "data_raw = pd.read_csv(\"C:/Users/dmitr/Downloads/chrome/IKEA.csv\")\n",
    "data_raw.shape\n"
   ]
  },
  {
   "cell_type": "code",
   "execution_count": 6,
   "id": "309e94a9",
   "metadata": {},
   "outputs": [],
   "source": [
    "del data_raw['Unnamed: 0']\n",
    "data_raw = data_raw.dropna(subset=['width'])\n",
    "data_raw = data_raw.dropna(subset=['height'])\n",
    "data_raw = data_raw.dropna(subset=['depth'])\n",
    "\n",
    "data_raw['price > 1000'] = data_raw['price']>1000"
   ]
  },
  {
   "cell_type": "code",
   "execution_count": 7,
   "id": "55fb4aa2",
   "metadata": {},
   "outputs": [
    {
     "name": "stdout",
     "output_type": "stream",
     "text": [
      "['item_id', 'price', 'sellable_online', 'depth', 'height', 'width', 'price > 1000']\n"
     ]
    }
   ],
   "source": [
    "del data_raw['link']\n",
    "del data_raw['short_description']\n",
    "del data_raw['old_price']\n",
    "del data_raw['designer']\n",
    "num_columns   = [c for c in data_raw.columns if data_raw[c].dtype.name != 'object']\n",
    "print(num_columns)\n",
    "data_describe = data_raw.describe(include = [object])\n",
    "number = preprocessing.LabelEncoder()\n",
    "data_raw[\"name\"] = number.fit_transform(data_raw[\"name\"])\n",
    "data_raw[\"category\"] = number.fit_transform(data_raw[\"category\"])\n",
    "data_raw['sellable_online'] = pd.factorize(data_raw['sellable_online'])[0]\n",
    "data_raw['price > 1000'] = pd.factorize(data_raw['price > 1000'])[0]\n",
    "data_raw['other_colors'] = pd.factorize(data_raw['other_colors'])[0]"
   ]
  },
  {
   "cell_type": "code",
   "execution_count": 8,
   "id": "27c07dbd",
   "metadata": {},
   "outputs": [
    {
     "data": {
      "text/html": [
       "<div>\n",
       "<style scoped>\n",
       "    .dataframe tbody tr th:only-of-type {\n",
       "        vertical-align: middle;\n",
       "    }\n",
       "\n",
       "    .dataframe tbody tr th {\n",
       "        vertical-align: top;\n",
       "    }\n",
       "\n",
       "    .dataframe thead th {\n",
       "        text-align: right;\n",
       "    }\n",
       "</style>\n",
       "<table border=\"1\" class=\"dataframe\">\n",
       "  <thead>\n",
       "    <tr style=\"text-align: right;\">\n",
       "      <th></th>\n",
       "      <th>item_id</th>\n",
       "      <th>name</th>\n",
       "      <th>category</th>\n",
       "      <th>price</th>\n",
       "      <th>sellable_online</th>\n",
       "      <th>other_colors</th>\n",
       "      <th>depth</th>\n",
       "      <th>height</th>\n",
       "      <th>width</th>\n",
       "      <th>price &gt; 1000</th>\n",
       "    </tr>\n",
       "  </thead>\n",
       "  <tbody>\n",
       "    <tr>\n",
       "      <th>3</th>\n",
       "      <td>80155205</td>\n",
       "      <td>235</td>\n",
       "      <td>0</td>\n",
       "      <td>69.0</td>\n",
       "      <td>0</td>\n",
       "      <td>0</td>\n",
       "      <td>50.0</td>\n",
       "      <td>100.0</td>\n",
       "      <td>60.0</td>\n",
       "      <td>0</td>\n",
       "    </tr>\n",
       "    <tr>\n",
       "      <th>4</th>\n",
       "      <td>30180504</td>\n",
       "      <td>176</td>\n",
       "      <td>0</td>\n",
       "      <td>225.0</td>\n",
       "      <td>0</td>\n",
       "      <td>1</td>\n",
       "      <td>60.0</td>\n",
       "      <td>43.0</td>\n",
       "      <td>74.0</td>\n",
       "      <td>0</td>\n",
       "    </tr>\n",
       "    <tr>\n",
       "      <th>5</th>\n",
       "      <td>10122647</td>\n",
       "      <td>108</td>\n",
       "      <td>0</td>\n",
       "      <td>345.0</td>\n",
       "      <td>0</td>\n",
       "      <td>1</td>\n",
       "      <td>45.0</td>\n",
       "      <td>91.0</td>\n",
       "      <td>40.0</td>\n",
       "      <td>0</td>\n",
       "    </tr>\n",
       "    <tr>\n",
       "      <th>6</th>\n",
       "      <td>70404875</td>\n",
       "      <td>66</td>\n",
       "      <td>0</td>\n",
       "      <td>129.0</td>\n",
       "      <td>0</td>\n",
       "      <td>1</td>\n",
       "      <td>44.0</td>\n",
       "      <td>95.0</td>\n",
       "      <td>50.0</td>\n",
       "      <td>0</td>\n",
       "    </tr>\n",
       "    <tr>\n",
       "      <th>8</th>\n",
       "      <td>50406465</td>\n",
       "      <td>66</td>\n",
       "      <td>0</td>\n",
       "      <td>129.0</td>\n",
       "      <td>0</td>\n",
       "      <td>1</td>\n",
       "      <td>44.0</td>\n",
       "      <td>95.0</td>\n",
       "      <td>50.0</td>\n",
       "      <td>0</td>\n",
       "    </tr>\n",
       "    <tr>\n",
       "      <th>...</th>\n",
       "      <td>...</td>\n",
       "      <td>...</td>\n",
       "      <td>...</td>\n",
       "      <td>...</td>\n",
       "      <td>...</td>\n",
       "      <td>...</td>\n",
       "      <td>...</td>\n",
       "      <td>...</td>\n",
       "      <td>...</td>\n",
       "      <td>...</td>\n",
       "    </tr>\n",
       "    <tr>\n",
       "      <th>3683</th>\n",
       "      <td>39329299</td>\n",
       "      <td>193</td>\n",
       "      <td>16</td>\n",
       "      <td>1260.0</td>\n",
       "      <td>0</td>\n",
       "      <td>0</td>\n",
       "      <td>60.0</td>\n",
       "      <td>201.0</td>\n",
       "      <td>75.0</td>\n",
       "      <td>1</td>\n",
       "    </tr>\n",
       "    <tr>\n",
       "      <th>3684</th>\n",
       "      <td>49157565</td>\n",
       "      <td>54</td>\n",
       "      <td>16</td>\n",
       "      <td>1245.0</td>\n",
       "      <td>0</td>\n",
       "      <td>1</td>\n",
       "      <td>55.0</td>\n",
       "      <td>216.0</td>\n",
       "      <td>164.0</td>\n",
       "      <td>1</td>\n",
       "    </tr>\n",
       "    <tr>\n",
       "      <th>3685</th>\n",
       "      <td>59324936</td>\n",
       "      <td>192</td>\n",
       "      <td>16</td>\n",
       "      <td>2100.0</td>\n",
       "      <td>0</td>\n",
       "      <td>0</td>\n",
       "      <td>60.0</td>\n",
       "      <td>236.0</td>\n",
       "      <td>100.0</td>\n",
       "      <td>1</td>\n",
       "    </tr>\n",
       "    <tr>\n",
       "      <th>3686</th>\n",
       "      <td>69330475</td>\n",
       "      <td>198</td>\n",
       "      <td>16</td>\n",
       "      <td>3985.0</td>\n",
       "      <td>0</td>\n",
       "      <td>1</td>\n",
       "      <td>66.0</td>\n",
       "      <td>236.0</td>\n",
       "      <td>150.0</td>\n",
       "      <td>1</td>\n",
       "    </tr>\n",
       "    <tr>\n",
       "      <th>3688</th>\n",
       "      <td>89330653</td>\n",
       "      <td>200</td>\n",
       "      <td>16</td>\n",
       "      <td>2045.0</td>\n",
       "      <td>0</td>\n",
       "      <td>1</td>\n",
       "      <td>66.0</td>\n",
       "      <td>236.0</td>\n",
       "      <td>200.0</td>\n",
       "      <td>1</td>\n",
       "    </tr>\n",
       "  </tbody>\n",
       "</table>\n",
       "<p>1899 rows × 10 columns</p>\n",
       "</div>"
      ],
      "text/plain": [
       "       item_id  name  category   price  sellable_online  other_colors  depth  \\\n",
       "3     80155205   235         0    69.0                0             0   50.0   \n",
       "4     30180504   176         0   225.0                0             1   60.0   \n",
       "5     10122647   108         0   345.0                0             1   45.0   \n",
       "6     70404875    66         0   129.0                0             1   44.0   \n",
       "8     50406465    66         0   129.0                0             1   44.0   \n",
       "...        ...   ...       ...     ...              ...           ...    ...   \n",
       "3683  39329299   193        16  1260.0                0             0   60.0   \n",
       "3684  49157565    54        16  1245.0                0             1   55.0   \n",
       "3685  59324936   192        16  2100.0                0             0   60.0   \n",
       "3686  69330475   198        16  3985.0                0             1   66.0   \n",
       "3688  89330653   200        16  2045.0                0             1   66.0   \n",
       "\n",
       "      height  width  price > 1000  \n",
       "3      100.0   60.0             0  \n",
       "4       43.0   74.0             0  \n",
       "5       91.0   40.0             0  \n",
       "6       95.0   50.0             0  \n",
       "8       95.0   50.0             0  \n",
       "...      ...    ...           ...  \n",
       "3683   201.0   75.0             1  \n",
       "3684   216.0  164.0             1  \n",
       "3685   236.0  100.0             1  \n",
       "3686   236.0  150.0             1  \n",
       "3688   236.0  200.0             1  \n",
       "\n",
       "[1899 rows x 10 columns]"
      ]
     },
     "execution_count": 8,
     "metadata": {},
     "output_type": "execute_result"
    }
   ],
   "source": [
    "data_raw"
   ]
  },
  {
   "cell_type": "markdown",
   "id": "ba6eaaa0",
   "metadata": {},
   "source": [
    "# Разделение данных на обучающую и тестовую выборки"
   ]
  },
  {
   "cell_type": "code",
   "execution_count": 9,
   "id": "95082a3d",
   "metadata": {},
   "outputs": [
    {
     "data": {
      "text/plain": [
       "(380, 9)"
      ]
     },
     "execution_count": 9,
     "metadata": {},
     "output_type": "execute_result"
    }
   ],
   "source": [
    "X = data_raw.drop('item_id', axis = 1) \n",
    "y = data_raw['item_id']\n",
    "new_id = X.columns\n",
    "X_train, X_test, y_train, y_test = train_test_split(X, y, test_size=0.2, random_state=42)\n",
    "X_test.shape"
   ]
  },
  {
   "cell_type": "code",
   "execution_count": 10,
   "id": "28f1ff8b",
   "metadata": {},
   "outputs": [
    {
     "data": {
      "text/plain": [
       "(1519, 9)"
      ]
     },
     "execution_count": 10,
     "metadata": {},
     "output_type": "execute_result"
    }
   ],
   "source": [
    "X_train.shape"
   ]
  },
  {
   "cell_type": "markdown",
   "id": "0711ee59",
   "metadata": {},
   "source": [
    "# Подбор гиперпараметров "
   ]
  },
  {
   "cell_type": "markdown",
   "id": "5d26e906",
   "metadata": {},
   "source": [
    "Подберем оптимальное значение параметра регуляризации alpha. Алгоритм оптимизации - Adam, функция активации - Relu."
   ]
  },
  {
   "cell_type": "code",
   "execution_count": 11,
   "id": "8212efdf",
   "metadata": {},
   "outputs": [
    {
     "name": "stderr",
     "output_type": "stream",
     "text": [
      "100%|██████████████████████████████████████████████████████████████████████████████████| 25/25 [11:01<00:00, 26.46s/it]\n"
     ]
    }
   ],
   "source": [
    "alpha_arr = np.logspace(-3, 2, 25)\n",
    "test_err = []\n",
    "train_err = []\n",
    "train_acc = []\n",
    "test_acc = []\n",
    "\n",
    "for alpha in tqdm(alpha_arr):\n",
    "    mlp_model = MLPClassifier(alpha = alpha, hidden_layer_sizes = (20,), \n",
    "                              solver='adam', activation='relu', max_iter=1000, random_state=266)\n",
    "    mlp_model.fit(X_train, y_train)\n",
    "\n",
    "    y_train_pred = mlp_model.predict(X_train)\n",
    "    y_test_pred = mlp_model.predict(X_test)\n",
    "    \n",
    "    train_err.append(np.mean(y_train != y_train_pred))\n",
    "    test_err.append(np.mean(y_test != y_test_pred))\n",
    "    \n",
    "    train_acc.append(accuracy_score(y_train, y_train_pred))\n",
    "    test_acc.append(accuracy_score(y_test, y_test_pred))"
   ]
  },
  {
   "cell_type": "markdown",
   "id": "1bd630b8",
   "metadata": {},
   "source": [
    "Построим график зависимости ошибки на тестовой и обучающей выборках от параметра регуляризации."
   ]
  },
  {
   "cell_type": "code",
   "execution_count": 12,
   "id": "fa2e2a81",
   "metadata": {},
   "outputs": [
    {
     "data": {
      "text/plain": [
       "<matplotlib.legend.Legend at 0x1faf73ce100>"
      ]
     },
     "execution_count": 12,
     "metadata": {},
     "output_type": "execute_result"
    },
    {
     "data": {
      "image/png": "[encoded data removed]",
      "text/plain": [
       "<Figure size 432x288 with 1 Axes>"
      ]
     },
     "metadata": {
      "needs_background": "light"
     },
     "output_type": "display_data"
    }
   ],
   "source": [
    "plt.semilogx(alpha_arr, train_err, 'b-o', label = 'train')\n",
    "plt.semilogx(alpha_arr, test_err, 'r-o', label = 'test')\n",
    "plt.xlim([np.min(alpha_arr), np.max(alpha_arr)])\n",
    "plt.title('Error vs. alpha')\n",
    "plt.xlabel('alpha')\n",
    "plt.ylabel('error')\n",
    "plt.legend()"
   ]
  },
  {
   "cell_type": "markdown",
   "id": "dfb0d2ea",
   "metadata": {},
   "source": [
    "Для небольшого объема данных ошибки на обучающей и тестовой выборках сильно отличаются, что указывает на переобучение. Для той же модели, но с большим объемом данных ошибки сближаются, что указывает на недообучение.\n",
    "\n",
    "Дополнительно построим график зависимости точности на тестовой и обучающей выборках от параметра регуляризации."
   ]
  },
  {
   "cell_type": "code",
   "execution_count": 13,
   "id": "b17e8539",
   "metadata": {},
   "outputs": [
    {
     "data": {
      "text/plain": [
       "<matplotlib.legend.Legend at 0x1faf7d56e50>"
      ]
     },
     "execution_count": 13,
     "metadata": {},
     "output_type": "execute_result"
    },
    {
     "data": {
      "image/png": "[encoded data removed]",
      "text/plain": [
       "<Figure size 432x288 with 1 Axes>"
      ]
     },
     "metadata": {
      "needs_background": "light"
     },
     "output_type": "display_data"
    }
   ],
   "source": [
    "plt.semilogx(alpha_arr, train_acc, 'r-o', label = 'train')\n",
    "plt.semilogx(alpha_arr, test_acc, 'b-o', label = 'test')\n",
    "plt.xlim([np.min(alpha_arr), np.max(alpha_arr)])\n",
    "plt.title('Accuracy vs. alpha')\n",
    "plt.xlabel('alpha')\n",
    "plt.ylabel('Accuracy')\n",
    "plt.legend()"
   ]
  },
  {
   "cell_type": "markdown",
   "id": "8eae2446",
   "metadata": {},
   "source": [
    "Расчитаем минимальные ошибки на выборках."
   ]
  },
  {
   "cell_type": "code",
   "execution_count": 14,
   "id": "794113c1",
   "metadata": {},
   "outputs": [
    {
     "name": "stdout",
     "output_type": "stream",
     "text": [
      "0.228439763001975 0.8447368421052631\n"
     ]
    }
   ],
   "source": [
    "min_train_err = np.min(train_err)\n",
    "min_test_err = np.min(test_err)\n",
    "print(min_train_err, min_test_err)"
   ]
  },
  {
   "cell_type": "markdown",
   "id": "50b75da5",
   "metadata": {},
   "source": [
    "На тестовой выборке ошибка близка к единице. Возможно это из-за маленького количества итераций или из-за большого количества данных. К тому же данные весьма разнородные, что играет решающую роль в обучаемости нейронной сети.\n",
    "\n",
    "Оптимальное значение параметра регуляризации:"
   ]
  },
  {
   "cell_type": "code",
   "execution_count": 15,
   "id": "98d8d949",
   "metadata": {},
   "outputs": [
    {
     "name": "stdout",
     "output_type": "stream",
     "text": [
      "[0.001]\n"
     ]
    }
   ],
   "source": [
    "alpha_opt = alpha_arr[test_err == min_test_err]\n",
    "print(alpha_opt)"
   ]
  },
  {
   "cell_type": "code",
   "execution_count": 16,
   "id": "5986d707",
   "metadata": {},
   "outputs": [],
   "source": [
    "alpha_opt = alpha_opt[0]"
   ]
  },
  {
   "cell_type": "markdown",
   "id": "4ccdb904",
   "metadata": {},
   "source": [
    "Теперь подберём число нейронов в однослойном классификаторе.  Алгоритм оптимизации - Adam, функция активации - Relu."
   ]
  },
  {
   "cell_type": "code",
   "execution_count": 17,
   "id": "70118ff3",
   "metadata": {},
   "outputs": [
    {
     "name": "stderr",
     "output_type": "stream",
     "text": [
      "100%|██████████████████████████████████████████████████████████████████████████████████| 25/25 [11:45<00:00, 28.24s/it]\n"
     ]
    }
   ],
   "source": [
    "hidden_layer_size = np.linspace(1, 100, 25)\n",
    "hidden_layer_size = hidden_layer_size.astype(int)\n",
    "test_err = []\n",
    "train_err = []\n",
    "\n",
    "for size in tqdm(hidden_layer_size):\n",
    "    model = MLPClassifier(hidden_layer_sizes=(size), solver='adam', activation='relu', max_iter=1000,  random_state=662)\n",
    "    model.fit(X_train, y_train)\n",
    "    train_err.append(np.mean(y_train != y_train_pred))\n",
    "    test_err.append(np.mean(y_test != y_test_pred))\n",
    "    y_train_pred = model.predict(X_train)\n",
    "    y_test_pred = model.predict(X_test)\n",
    "    "
   ]
  },
  {
   "cell_type": "code",
   "execution_count": 18,
   "id": "44228cea",
   "metadata": {},
   "outputs": [
    {
     "data": {
      "text/plain": [
       "<matplotlib.legend.Legend at 0x1faf7eff190>"
      ]
     },
     "execution_count": 18,
     "metadata": {},
     "output_type": "execute_result"
    },
    {
     "data": {
      "image/png": "[encoded data removed]",
      "text/plain": [
       "<Figure size 432x288 with 1 Axes>"
      ]
     },
     "metadata": {
      "needs_background": "light"
     },
     "output_type": "display_data"
    }
   ],
   "source": [
    "plt.plot(hidden_layer_size, train_err, 'b-o', label = 'train')\n",
    "plt.plot(hidden_layer_size, test_err, 'r-o', label = 'test')\n",
    "plt.xlim([np.min(hidden_layer_size), np.max(hidden_layer_size)])\n",
    "plt.title('Error')\n",
    "plt.xlabel('hidden_layer_size')\n",
    "plt.ylabel('error')\n",
    "plt.legend()"
   ]
  },
  {
   "cell_type": "code",
   "execution_count": 19,
   "id": "3ef89f48",
   "metadata": {},
   "outputs": [
    {
     "name": "stdout",
     "output_type": "stream",
     "text": [
      "0.14549045424621462 0.8342105263157895\n"
     ]
    }
   ],
   "source": [
    "min_train_err = np.min(train_err)\n",
    "min_test_err = np.min(test_err)\n",
    "print(min_train_err, min_test_err)"
   ]
  },
  {
   "cell_type": "markdown",
   "id": "ff5efcc6",
   "metadata": {},
   "source": [
    "Снова большая ошибка на тестовой выборке, явное переобучение. Я уже сто раз убедилась в том, что датасет выбран не подходящий, но доведём дело до конца."
   ]
  },
  {
   "cell_type": "markdown",
   "id": "dcb34a3c",
   "metadata": {},
   "source": [
    " "
   ]
  },
  {
   "cell_type": "code",
   "execution_count": 20,
   "id": "7130aa63",
   "metadata": {},
   "outputs": [
    {
     "name": "stdout",
     "output_type": "stream",
     "text": [
      "67 17\n"
     ]
    }
   ],
   "source": [
    "hl_train_size = hidden_layer_size[np.argmin(train_err)]\n",
    "hl_test_size_ = hidden_layer_size[np.argmin(test_err)]\n",
    "print(hl_train_size, hl_test_size_)"
   ]
  },
  {
   "cell_type": "markdown",
   "id": "05a0d398",
   "metadata": {},
   "source": [
    "Получили количество нейронов = 17."
   ]
  },
  {
   "cell_type": "code",
   "execution_count": 21,
   "id": "85a8c33c",
   "metadata": {},
   "outputs": [
    {
     "data": {
      "text/plain": [
       "<matplotlib.legend.Legend at 0x1faf806a250>"
      ]
     },
     "execution_count": 21,
     "metadata": {},
     "output_type": "execute_result"
    },
    {
     "data": {
      "image/png": "[encoded data removed]",
      "text/plain": [
       "<Figure size 432x288 with 1 Axes>"
      ]
     },
     "metadata": {
      "needs_background": "light"
     },
     "output_type": "display_data"
    }
   ],
   "source": [
    "plt.plot(hidden_layer_size, train_acc, 'r-o', label = 'train')\n",
    "plt.plot(hidden_layer_size, test_acc, 'b-o', label = 'test')\n",
    "plt.xlim([np.min(hidden_layer_size), np.max(hidden_layer_size)])\n",
    "plt.title('Accuracy')\n",
    "plt.xlabel('hidden_layer_size')\n",
    "plt.ylabel('Accuracy')\n",
    "plt.legend()"
   ]
  },
  {
   "cell_type": "code",
   "execution_count": 27,
   "id": "492b54cd",
   "metadata": {},
   "outputs": [
    {
     "name": "stdout",
     "output_type": "stream",
     "text": [
      "0.771560236998025 0.15526315789473685\n"
     ]
    }
   ],
   "source": [
    "max_train_acc = np.max(train_acc)\n",
    "max_test_acc = np.max(test_acc)\n",
    "print(max_train_acc, max_test_acc)"
   ]
  },
  {
   "cell_type": "markdown",
   "id": "bfa49ba1",
   "metadata": {},
   "source": [
    "Подберём число нейронов в двухслойном классификаторе. "
   ]
  },
  {
   "cell_type": "code",
   "execution_count": 25,
   "id": "06b9632a",
   "metadata": {},
   "outputs": [
    {
     "name": "stderr",
     "output_type": "stream",
     "text": [
      "5it [14:24, 172.82s/it]\n"
     ]
    }
   ],
   "source": [
    "sizes = np.linspace(1, 100, 5).astype(int)\n",
    "test_err = np.zeros((5, 5))\n",
    "train_err = np.zeros((5, 5))\n",
    "\n",
    "for i, size_1 in tqdm(enumerate(sizes)):\n",
    "    for j, size_2 in enumerate(sizes):\n",
    "        model = MLPClassifier(hidden_layer_sizes=(size_1, size_2, ), solver='adam', activation='relu', \n",
    "                              max_iter=2000, random_state=123)\n",
    "        model.fit(X_train, y_train)\n",
    "        y_train_pred = model.predict(X_train)\n",
    "        y_test_pred = model.predict(X_test)\n",
    "        train_err[i][j] = np.mean(y_train != y_train_pred)\n",
    "        test_err[i][j] = np.mean(y_test != y_test_pred)"
   ]
  },
  {
   "cell_type": "code",
   "execution_count": 32,
   "id": "8129d179",
   "metadata": {},
   "outputs": [
    {
     "data": {
      "text/plain": [
       "([<matplotlib.axis.YTick at 0x1faf82dea30>,\n",
       "  <matplotlib.axis.YTick at 0x1faf82de610>,\n",
       "  <matplotlib.axis.YTick at 0x1faf82d3340>,\n",
       "  <matplotlib.axis.YTick at 0x1faf8309be0>,\n",
       "  <matplotlib.axis.YTick at 0x1faf830e130>],\n",
       " [Text(0, 0, '1.0'),\n",
       "  Text(0, 1, '11.0'),\n",
       "  Text(0, 2, '21.0'),\n",
       "  Text(0, 3, '31.0'),\n",
       "  Text(0, 4, '41.0')])"
      ]
     },
     "execution_count": 32,
     "metadata": {},
     "output_type": "execute_result"
    },
    {
     "data": {
      "image/png": "[encoded data removed]",
      "text/plain": [
       "<Figure size 432x288 with 2 Axes>"
      ]
     },
     "metadata": {
      "needs_background": "light"
     },
     "output_type": "display_data"
    }
   ],
   "source": [
    "plt.subplot(121)\n",
    "plt.title(\"Train error\")\n",
    "plt.imshow(train_err)\n",
    "plt.xticks(np.arange(5), np.arange(1, 50, 50 / 5))\n",
    "plt.yticks(np.arange(5), np.arange(1, 50, 50 / 5))\n",
    "\n",
    "plt.subplot(122)\n",
    "plt.title(\"Test error\")\n",
    "plt.imshow(test_err)\n",
    "plt.xticks(np.arange(5), np.arange(1, 50, 50 / 5))\n",
    "plt.yticks(np.arange(5), np.arange(1, 50, 50 / 5))\n"
   ]
  },
  {
   "cell_type": "code",
   "execution_count": 33,
   "id": "421e9e9a",
   "metadata": {},
   "outputs": [
    {
     "name": "stdout",
     "output_type": "stream",
     "text": [
      "0.13759052007899933 0.8026315789473685\n"
     ]
    }
   ],
   "source": [
    "train_min_loss = np.where(train_err == np.min(train_err))\n",
    "test_min_loss = np.where(test_err == np.min(test_err))\n",
    "train_min_loss_sizes = np.where(train_err == np.min(train_err))\n",
    "min_train_err = np.min(train_err)\n",
    "min_test_err = np.min(test_err)\n",
    "print(min_train_err, min_test_err)"
   ]
  },
  {
   "cell_type": "code",
   "execution_count": 36,
   "id": "f13266d7",
   "metadata": {},
   "outputs": [
    {
     "name": "stdout",
     "output_type": "stream",
     "text": [
      "0.771560236998025 0.15526315789473685\n"
     ]
    }
   ],
   "source": [
    "train_max_acc = np.where(train_acc == np.max(train_acc))\n",
    "test_max_acc = np.where(test_acc == np.max(test_acc))\n",
    "max_train_acc = np.max(train_acc)\n",
    "max_test_acc = np.max(test_acc)\n",
    "print(max_train_acc, max_test_acc)"
   ]
  },
  {
   "cell_type": "markdown",
   "id": "b19c844b",
   "metadata": {},
   "source": [
    "# Выводы\n",
    "В ходе выполнения всех заданий, выяснилось, что для данных с сайта Икеи поставленная задача некорректна для решения нейронной сетью. Чтобы сеть обучалась, данные нужно более тщательно обработать, избавиться от разнородности признаков и, возможно, уменьшить количество самих данных. Также может помочь выравнивание классов. \n",
    "А пока что наблюдается и переобучение, и недообучение, и большие ошибки, и маленькие точности на тестовых выборках.."
   ]
  },
  {
   "cell_type": "code",
   "execution_count": null,
   "id": "ee1a2bd8",
   "metadata": {},
   "outputs": [],
   "source": []
  }
 ],
 "metadata": {
  "kernelspec": {
   "display_name": "Python 3",
   "language": "python",
   "name": "python3"
  },
  "language_info": {
   "codemirror_mode": {
    "name": "ipython",
    "version": 3
   },
   "file_extension": ".py",
   "mimetype": "text/x-python",
   "name": "python",
   "nbconvert_exporter": "python",
   "pygments_lexer": "ipython3",
   "version": "3.8.8"
  }
 },
 "nbformat": 4,
 "nbformat_minor": 5
}
